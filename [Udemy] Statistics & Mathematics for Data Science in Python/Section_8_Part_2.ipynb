{
  "nbformat": 4,
  "nbformat_minor": 0,
  "metadata": {
    "colab": {
      "provenance": []
    },
    "kernelspec": {
      "name": "python3",
      "display_name": "Python 3"
    },
    "language_info": {
      "name": "python"
    }
  },
  "cells": [
    {
      "cell_type": "code",
      "execution_count": 1,
      "metadata": {
        "id": "jEhkqKp5T8Kp"
      },
      "outputs": [],
      "source": [
        "#install needed\n",
        "!pip install --quiet nltk"
      ]
    },
    {
      "cell_type": "code",
      "source": [
        "from bs4 import BeautifulSoup\n",
        "import requests\n",
        "import matplotlib.pyplot as plt\n",
        "import seaborn as sns\n",
        "import pandas as pd\n",
        "\n",
        "%matplotlib inline\n",
        "\n",
        "#importing and downloading everything at once, may take a few minutes\n",
        "import nltk\n",
        "nltk.download(\"all\", quiet=True)"
      ],
      "metadata": {
        "colab": {
          "base_uri": "https://localhost:8080/"
        },
        "id": "Wt-cY66EUAaM",
        "outputId": "09252e38-8acd-458b-a050-15e59e604195"
      },
      "execution_count": 2,
      "outputs": [
        {
          "output_type": "execute_result",
          "data": {
            "text/plain": [
              "True"
            ]
          },
          "metadata": {},
          "execution_count": 2
        }
      ]
    },
    {
      "cell_type": "code",
      "source": [
        "#https://www.gutenberg.org/"
      ],
      "metadata": {
        "id": "TcSub2U2UAba"
      },
      "execution_count": 3,
      "outputs": []
    },
    {
      "cell_type": "code",
      "source": [
        "#Jekyll Hyde\n",
        "url1 = \"https://www.gutenberg.org/files/43/43-h/43-h.htm\"\n",
        "\n",
        "#Treasure Island\n",
        "url2 = \"https://www.gutenberg.org/files/120/120-h/120-h.htm\"\n",
        "\n",
        "#Dracula\n",
        "url3 = \"https://www.gutenberg.org/files/345/345-h/345-h.htm\"\n",
        "\n",
        "#Two Cities\n",
        "url4 = \"https://www.gutenberg.org/files/98/98-h/98-h.htm\""
      ],
      "metadata": {
        "id": "XmKUv8QKUAd3"
      },
      "execution_count": 8,
      "outputs": []
    },
    {
      "cell_type": "code",
      "source": [
        "import string\n",
        "\n",
        "lemmer = nltk.stem.WordNetLemmatizer()\n",
        "\n",
        "def LemTokens(tokens):\n",
        "    return [lemmer.lemmatize(token) for token in tokens]\n",
        "\n",
        "remove_punct_dict = dict((ord(punct), None) for punct in string.punctuation)\n",
        "\n",
        "def LemNormalize(text):\n",
        "    return LemTokens(nltk.word_tokenize(text.lower().translate(remove_punct_dict)))"
      ],
      "metadata": {
        "id": "intpr_45UAgc"
      },
      "execution_count": 9,
      "outputs": []
    },
    {
      "cell_type": "code",
      "source": [
        "def clean_word_list(url):\n",
        "  req = requests.get(url)\n",
        "  html = req.text\n",
        "  soup = BeautifulSoup(html, \"html5lib\")\n",
        "  text = soup.get_text()\n",
        "  tokenizer = LemNormalize\n",
        "  tokens = tokenizer(text)\n",
        "  words = []\n",
        "  for word in tokens:\n",
        "    words.append(word)\n",
        "  return words"
      ],
      "metadata": {
        "id": "Cdbw7JjzUr5B"
      },
      "execution_count": 10,
      "outputs": []
    },
    {
      "cell_type": "code",
      "source": [
        "#Jekyll Hyde\n",
        "clean1 = clean_word_list(url1)\n",
        "#Treasure Island\n",
        "clean2 = clean_word_list(url2)\n",
        "#Dracula\n",
        "clean3 = clean_word_list(url3)\n",
        "#Two Cities\n",
        "clean4 = clean_word_list(url4)"
      ],
      "metadata": {
        "id": "L2X3Y_ynUAi0"
      },
      "execution_count": 11,
      "outputs": []
    },
    {
      "cell_type": "code",
      "source": [
        "type(clean1)"
      ],
      "metadata": {
        "colab": {
          "base_uri": "https://localhost:8080/"
        },
        "id": "n7UOYxkYUAlJ",
        "outputId": "bc6eeb99-c117-4d33-c05e-727942802b0b"
      },
      "execution_count": 12,
      "outputs": [
        {
          "output_type": "execute_result",
          "data": {
            "text/plain": [
              "list"
            ]
          },
          "metadata": {},
          "execution_count": 12
        }
      ]
    },
    {
      "cell_type": "code",
      "source": [
        "clean1[:10]"
      ],
      "metadata": {
        "colab": {
          "base_uri": "https://localhost:8080/"
        },
        "id": "67vfyqX_UAnm",
        "outputId": "948eb1a0-d06d-42cd-8a50-35e422e02803"
      },
      "execution_count": 13,
      "outputs": [
        {
          "output_type": "execute_result",
          "data": {
            "text/plain": [
              "['the',\n",
              " 'strange',\n",
              " 'case',\n",
              " 'of',\n",
              " 'dr',\n",
              " 'jekyll',\n",
              " 'and',\n",
              " 'mr',\n",
              " 'hyde',\n",
              " 'project']"
            ]
          },
          "metadata": {},
          "execution_count": 13
        }
      ]
    },
    {
      "cell_type": "code",
      "source": [
        "def list_to_string(orig_list, seperator=' '):\n",
        "  return seperator.join(orig_list)"
      ],
      "metadata": {
        "id": "OJqAJjZPUAqF"
      },
      "execution_count": 14,
      "outputs": []
    },
    {
      "cell_type": "code",
      "source": [
        "#Jekyll Hyde\n",
        "string1 = list_to_string(clean1)\n",
        "#Treasure Island\n",
        "string2 = list_to_string(clean2)\n",
        "#Dracula\n",
        "string3 = list_to_string(clean3)\n",
        "#Two Cities\n",
        "string4 = list_to_string(clean4)"
      ],
      "metadata": {
        "id": "UY9ey3NSUAsh"
      },
      "execution_count": 15,
      "outputs": []
    },
    {
      "cell_type": "code",
      "source": [
        "type(string1)"
      ],
      "metadata": {
        "colab": {
          "base_uri": "https://localhost:8080/"
        },
        "id": "zLzZ9ASoUAvH",
        "outputId": "d7ba4557-2862-4903-c55f-0c0b333a072d"
      },
      "execution_count": 16,
      "outputs": [
        {
          "output_type": "execute_result",
          "data": {
            "text/plain": [
              "str"
            ]
          },
          "metadata": {},
          "execution_count": 16
        }
      ]
    },
    {
      "cell_type": "code",
      "source": [
        "string1[:90]"
      ],
      "metadata": {
        "colab": {
          "base_uri": "https://localhost:8080/",
          "height": 35
        },
        "id": "yyYMwImeUAxr",
        "outputId": "5ced7b97-e24f-4dd0-f924-91a3a8ffbf51"
      },
      "execution_count": 19,
      "outputs": [
        {
          "output_type": "execute_result",
          "data": {
            "text/plain": [
              "'the strange case of dr jekyll and mr hyde project gutenberg body marginleft 10 marginright'"
            ],
            "application/vnd.google.colaboratory.intrinsic+json": {
              "type": "string"
            }
          },
          "metadata": {},
          "execution_count": 19
        }
      ]
    },
    {
      "cell_type": "code",
      "source": [
        "#doc lib or list of strings\n",
        "doc_lib = [string1, string2, string3, string4]"
      ],
      "metadata": {
        "id": "atQdHVb7UA0I"
      },
      "execution_count": 20,
      "outputs": []
    },
    {
      "cell_type": "code",
      "source": [
        "from sklearn.feature_extraction.text import TfidfVectorizer"
      ],
      "metadata": {
        "id": "r2VdcA12UA2t"
      },
      "execution_count": 21,
      "outputs": []
    },
    {
      "cell_type": "code",
      "source": [
        "TfidfVec = TfidfVectorizer(tokenizer=LemNormalize, stop_words=\"english\")"
      ],
      "metadata": {
        "id": "ooe9A0qZUA5D"
      },
      "execution_count": 22,
      "outputs": []
    },
    {
      "cell_type": "code",
      "source": [
        "def cos_similarity(textlist):\n",
        "  tfidf = TfidfVec.fit_transform(textlist)\n",
        "  return (tfidf * tfidf.T).toarray()"
      ],
      "metadata": {
        "id": "lJQCGp6B8PYL"
      },
      "execution_count": 23,
      "outputs": []
    },
    {
      "cell_type": "code",
      "source": [
        "stored = cos_similarity(doc_lib)"
      ],
      "metadata": {
        "id": "B3znNCbQ8PbA"
      },
      "execution_count": 25,
      "outputs": []
    },
    {
      "cell_type": "code",
      "source": [
        "names = [\"Jekyll\",\"Treasure\",\"Dracula\",\"Two Cities\"]"
      ],
      "metadata": {
        "id": "2LmHRNN98Pdq"
      },
      "execution_count": 26,
      "outputs": []
    },
    {
      "cell_type": "code",
      "source": [
        "visual = pd.DataFrame(stored, index = names, columns = names)"
      ],
      "metadata": {
        "id": "GRe-YUGE8PgA"
      },
      "execution_count": 27,
      "outputs": []
    },
    {
      "cell_type": "code",
      "source": [
        "print(\"Cosine Similarity Matrix\")\n",
        "visual"
      ],
      "metadata": {
        "colab": {
          "base_uri": "https://localhost:8080/",
          "height": 192
        },
        "id": "H39xdb_58Pik",
        "outputId": "bddb66c7-4558-477b-bcf5-2dff0b54b2f5"
      },
      "execution_count": 28,
      "outputs": [
        {
          "output_type": "stream",
          "name": "stdout",
          "text": [
            "Cosine Similarity Matrix\n"
          ]
        },
        {
          "output_type": "execute_result",
          "data": {
            "text/plain": [
              "              Jekyll  Treasure   Dracula  Two Cities\n",
              "Jekyll      1.000000  0.457605  0.441227    0.862573\n",
              "Treasure    0.457605  1.000000  0.738688    0.350677\n",
              "Dracula     0.441227  0.738688  1.000000    0.354428\n",
              "Two Cities  0.862573  0.350677  0.354428    1.000000"
            ],
            "text/html": [
              "\n",
              "  <div id=\"df-b467020e-470e-4f7c-a732-7dec50879a5f\" class=\"colab-df-container\">\n",
              "    <div>\n",
              "<style scoped>\n",
              "    .dataframe tbody tr th:only-of-type {\n",
              "        vertical-align: middle;\n",
              "    }\n",
              "\n",
              "    .dataframe tbody tr th {\n",
              "        vertical-align: top;\n",
              "    }\n",
              "\n",
              "    .dataframe thead th {\n",
              "        text-align: right;\n",
              "    }\n",
              "</style>\n",
              "<table border=\"1\" class=\"dataframe\">\n",
              "  <thead>\n",
              "    <tr style=\"text-align: right;\">\n",
              "      <th></th>\n",
              "      <th>Jekyll</th>\n",
              "      <th>Treasure</th>\n",
              "      <th>Dracula</th>\n",
              "      <th>Two Cities</th>\n",
              "    </tr>\n",
              "  </thead>\n",
              "  <tbody>\n",
              "    <tr>\n",
              "      <th>Jekyll</th>\n",
              "      <td>1.000000</td>\n",
              "      <td>0.457605</td>\n",
              "      <td>0.441227</td>\n",
              "      <td>0.862573</td>\n",
              "    </tr>\n",
              "    <tr>\n",
              "      <th>Treasure</th>\n",
              "      <td>0.457605</td>\n",
              "      <td>1.000000</td>\n",
              "      <td>0.738688</td>\n",
              "      <td>0.350677</td>\n",
              "    </tr>\n",
              "    <tr>\n",
              "      <th>Dracula</th>\n",
              "      <td>0.441227</td>\n",
              "      <td>0.738688</td>\n",
              "      <td>1.000000</td>\n",
              "      <td>0.354428</td>\n",
              "    </tr>\n",
              "    <tr>\n",
              "      <th>Two Cities</th>\n",
              "      <td>0.862573</td>\n",
              "      <td>0.350677</td>\n",
              "      <td>0.354428</td>\n",
              "      <td>1.000000</td>\n",
              "    </tr>\n",
              "  </tbody>\n",
              "</table>\n",
              "</div>\n",
              "    <div class=\"colab-df-buttons\">\n",
              "\n",
              "  <div class=\"colab-df-container\">\n",
              "    <button class=\"colab-df-convert\" onclick=\"convertToInteractive('df-b467020e-470e-4f7c-a732-7dec50879a5f')\"\n",
              "            title=\"Convert this dataframe to an interactive table.\"\n",
              "            style=\"display:none;\">\n",
              "\n",
              "  <svg xmlns=\"http://www.w3.org/2000/svg\" height=\"24px\" viewBox=\"0 -960 960 960\">\n",
              "    <path d=\"M120-120v-720h720v720H120Zm60-500h600v-160H180v160Zm220 220h160v-160H400v160Zm0 220h160v-160H400v160ZM180-400h160v-160H180v160Zm440 0h160v-160H620v160ZM180-180h160v-160H180v160Zm440 0h160v-160H620v160Z\"/>\n",
              "  </svg>\n",
              "    </button>\n",
              "\n",
              "  <style>\n",
              "    .colab-df-container {\n",
              "      display:flex;\n",
              "      gap: 12px;\n",
              "    }\n",
              "\n",
              "    .colab-df-convert {\n",
              "      background-color: #E8F0FE;\n",
              "      border: none;\n",
              "      border-radius: 50%;\n",
              "      cursor: pointer;\n",
              "      display: none;\n",
              "      fill: #1967D2;\n",
              "      height: 32px;\n",
              "      padding: 0 0 0 0;\n",
              "      width: 32px;\n",
              "    }\n",
              "\n",
              "    .colab-df-convert:hover {\n",
              "      background-color: #E2EBFA;\n",
              "      box-shadow: 0px 1px 2px rgba(60, 64, 67, 0.3), 0px 1px 3px 1px rgba(60, 64, 67, 0.15);\n",
              "      fill: #174EA6;\n",
              "    }\n",
              "\n",
              "    .colab-df-buttons div {\n",
              "      margin-bottom: 4px;\n",
              "    }\n",
              "\n",
              "    [theme=dark] .colab-df-convert {\n",
              "      background-color: #3B4455;\n",
              "      fill: #D2E3FC;\n",
              "    }\n",
              "\n",
              "    [theme=dark] .colab-df-convert:hover {\n",
              "      background-color: #434B5C;\n",
              "      box-shadow: 0px 1px 3px 1px rgba(0, 0, 0, 0.15);\n",
              "      filter: drop-shadow(0px 1px 2px rgba(0, 0, 0, 0.3));\n",
              "      fill: #FFFFFF;\n",
              "    }\n",
              "  </style>\n",
              "\n",
              "    <script>\n",
              "      const buttonEl =\n",
              "        document.querySelector('#df-b467020e-470e-4f7c-a732-7dec50879a5f button.colab-df-convert');\n",
              "      buttonEl.style.display =\n",
              "        google.colab.kernel.accessAllowed ? 'block' : 'none';\n",
              "\n",
              "      async function convertToInteractive(key) {\n",
              "        const element = document.querySelector('#df-b467020e-470e-4f7c-a732-7dec50879a5f');\n",
              "        const dataTable =\n",
              "          await google.colab.kernel.invokeFunction('convertToInteractive',\n",
              "                                                    [key], {});\n",
              "        if (!dataTable) return;\n",
              "\n",
              "        const docLinkHtml = 'Like what you see? Visit the ' +\n",
              "          '<a target=\"_blank\" href=https://colab.research.google.com/notebooks/data_table.ipynb>data table notebook</a>'\n",
              "          + ' to learn more about interactive tables.';\n",
              "        element.innerHTML = '';\n",
              "        dataTable['output_type'] = 'display_data';\n",
              "        await google.colab.output.renderOutput(dataTable, element);\n",
              "        const docLink = document.createElement('div');\n",
              "        docLink.innerHTML = docLinkHtml;\n",
              "        element.appendChild(docLink);\n",
              "      }\n",
              "    </script>\n",
              "  </div>\n",
              "\n",
              "\n",
              "<div id=\"df-65d84cba-2aa7-4abe-bce3-1a0c60dd6198\">\n",
              "  <button class=\"colab-df-quickchart\" onclick=\"quickchart('df-65d84cba-2aa7-4abe-bce3-1a0c60dd6198')\"\n",
              "            title=\"Suggest charts\"\n",
              "            style=\"display:none;\">\n",
              "\n",
              "<svg xmlns=\"http://www.w3.org/2000/svg\" height=\"24px\"viewBox=\"0 0 24 24\"\n",
              "     width=\"24px\">\n",
              "    <g>\n",
              "        <path d=\"M19 3H5c-1.1 0-2 .9-2 2v14c0 1.1.9 2 2 2h14c1.1 0 2-.9 2-2V5c0-1.1-.9-2-2-2zM9 17H7v-7h2v7zm4 0h-2V7h2v10zm4 0h-2v-4h2v4z\"/>\n",
              "    </g>\n",
              "</svg>\n",
              "  </button>\n",
              "\n",
              "<style>\n",
              "  .colab-df-quickchart {\n",
              "      --bg-color: #E8F0FE;\n",
              "      --fill-color: #1967D2;\n",
              "      --hover-bg-color: #E2EBFA;\n",
              "      --hover-fill-color: #174EA6;\n",
              "      --disabled-fill-color: #AAA;\n",
              "      --disabled-bg-color: #DDD;\n",
              "  }\n",
              "\n",
              "  [theme=dark] .colab-df-quickchart {\n",
              "      --bg-color: #3B4455;\n",
              "      --fill-color: #D2E3FC;\n",
              "      --hover-bg-color: #434B5C;\n",
              "      --hover-fill-color: #FFFFFF;\n",
              "      --disabled-bg-color: #3B4455;\n",
              "      --disabled-fill-color: #666;\n",
              "  }\n",
              "\n",
              "  .colab-df-quickchart {\n",
              "    background-color: var(--bg-color);\n",
              "    border: none;\n",
              "    border-radius: 50%;\n",
              "    cursor: pointer;\n",
              "    display: none;\n",
              "    fill: var(--fill-color);\n",
              "    height: 32px;\n",
              "    padding: 0;\n",
              "    width: 32px;\n",
              "  }\n",
              "\n",
              "  .colab-df-quickchart:hover {\n",
              "    background-color: var(--hover-bg-color);\n",
              "    box-shadow: 0 1px 2px rgba(60, 64, 67, 0.3), 0 1px 3px 1px rgba(60, 64, 67, 0.15);\n",
              "    fill: var(--button-hover-fill-color);\n",
              "  }\n",
              "\n",
              "  .colab-df-quickchart-complete:disabled,\n",
              "  .colab-df-quickchart-complete:disabled:hover {\n",
              "    background-color: var(--disabled-bg-color);\n",
              "    fill: var(--disabled-fill-color);\n",
              "    box-shadow: none;\n",
              "  }\n",
              "\n",
              "  .colab-df-spinner {\n",
              "    border: 2px solid var(--fill-color);\n",
              "    border-color: transparent;\n",
              "    border-bottom-color: var(--fill-color);\n",
              "    animation:\n",
              "      spin 1s steps(1) infinite;\n",
              "  }\n",
              "\n",
              "  @keyframes spin {\n",
              "    0% {\n",
              "      border-color: transparent;\n",
              "      border-bottom-color: var(--fill-color);\n",
              "      border-left-color: var(--fill-color);\n",
              "    }\n",
              "    20% {\n",
              "      border-color: transparent;\n",
              "      border-left-color: var(--fill-color);\n",
              "      border-top-color: var(--fill-color);\n",
              "    }\n",
              "    30% {\n",
              "      border-color: transparent;\n",
              "      border-left-color: var(--fill-color);\n",
              "      border-top-color: var(--fill-color);\n",
              "      border-right-color: var(--fill-color);\n",
              "    }\n",
              "    40% {\n",
              "      border-color: transparent;\n",
              "      border-right-color: var(--fill-color);\n",
              "      border-top-color: var(--fill-color);\n",
              "    }\n",
              "    60% {\n",
              "      border-color: transparent;\n",
              "      border-right-color: var(--fill-color);\n",
              "    }\n",
              "    80% {\n",
              "      border-color: transparent;\n",
              "      border-right-color: var(--fill-color);\n",
              "      border-bottom-color: var(--fill-color);\n",
              "    }\n",
              "    90% {\n",
              "      border-color: transparent;\n",
              "      border-bottom-color: var(--fill-color);\n",
              "    }\n",
              "  }\n",
              "</style>\n",
              "\n",
              "  <script>\n",
              "    async function quickchart(key) {\n",
              "      const quickchartButtonEl =\n",
              "        document.querySelector('#' + key + ' button');\n",
              "      quickchartButtonEl.disabled = true;  // To prevent multiple clicks.\n",
              "      quickchartButtonEl.classList.add('colab-df-spinner');\n",
              "      try {\n",
              "        const charts = await google.colab.kernel.invokeFunction(\n",
              "            'suggestCharts', [key], {});\n",
              "      } catch (error) {\n",
              "        console.error('Error during call to suggestCharts:', error);\n",
              "      }\n",
              "      quickchartButtonEl.classList.remove('colab-df-spinner');\n",
              "      quickchartButtonEl.classList.add('colab-df-quickchart-complete');\n",
              "    }\n",
              "    (() => {\n",
              "      let quickchartButtonEl =\n",
              "        document.querySelector('#df-65d84cba-2aa7-4abe-bce3-1a0c60dd6198 button');\n",
              "      quickchartButtonEl.style.display =\n",
              "        google.colab.kernel.accessAllowed ? 'block' : 'none';\n",
              "    })();\n",
              "  </script>\n",
              "</div>\n",
              "    </div>\n",
              "  </div>\n"
            ],
            "application/vnd.google.colaboratory.intrinsic+json": {
              "type": "dataframe",
              "variable_name": "visual",
              "summary": "{\n  \"name\": \"visual\",\n  \"rows\": 4,\n  \"fields\": [\n    {\n      \"column\": \"Jekyll\",\n      \"properties\": {\n        \"dtype\": \"number\",\n        \"std\": 0.28388756955399747,\n        \"min\": 0.4412271098021738,\n        \"max\": 1.0000000000000513,\n        \"num_unique_values\": 4,\n        \"samples\": [\n          0.4576047467788724,\n          0.8625730142293464,\n          1.0000000000000513\n        ],\n        \"semantic_type\": \"\",\n        \"description\": \"\"\n      }\n    },\n    {\n      \"column\": \"Treasure\",\n      \"properties\": {\n        \"dtype\": \"number\",\n        \"std\": 0.29227420341083016,\n        \"min\": 0.35067704148665235,\n        \"max\": 0.9999999999998367,\n        \"num_unique_values\": 4,\n        \"samples\": [\n          0.9999999999998367,\n          0.35067704148665235,\n          0.4576047467788724\n        ],\n        \"semantic_type\": \"\",\n        \"description\": \"\"\n      }\n    },\n    {\n      \"column\": \"Dracula\",\n      \"properties\": {\n        \"dtype\": \"number\",\n        \"std\": 0.29452588158111564,\n        \"min\": 0.35442844355818554,\n        \"max\": 0.9999999999997237,\n        \"num_unique_values\": 4,\n        \"samples\": [\n          0.7386877669262218,\n          0.35442844355818554,\n          0.4412271098021738\n        ],\n        \"semantic_type\": \"\",\n        \"description\": \"\"\n      }\n    },\n    {\n      \"column\": \"Two Cities\",\n      \"properties\": {\n        \"dtype\": \"number\",\n        \"std\": 0.3388130728473704,\n        \"min\": 0.35067704148665235,\n        \"max\": 0.9999999999999369,\n        \"num_unique_values\": 4,\n        \"samples\": [\n          0.35067704148665235,\n          0.9999999999999369,\n          0.8625730142293464\n        ],\n        \"semantic_type\": \"\",\n        \"description\": \"\"\n      }\n    }\n  ]\n}"
            }
          },
          "metadata": {},
          "execution_count": 28
        }
      ]
    },
    {
      "cell_type": "code",
      "source": [],
      "metadata": {
        "id": "1HAhAHXO8PlR"
      },
      "execution_count": null,
      "outputs": []
    },
    {
      "cell_type": "code",
      "source": [],
      "metadata": {
        "id": "sCM1vQ2C8Pn9"
      },
      "execution_count": null,
      "outputs": []
    },
    {
      "cell_type": "code",
      "source": [],
      "metadata": {
        "id": "ytwUKJw58Pp8"
      },
      "execution_count": null,
      "outputs": []
    },
    {
      "cell_type": "code",
      "source": [],
      "metadata": {
        "id": "zHtK_gCoUA7y"
      },
      "execution_count": 5,
      "outputs": []
    }
  ]
}