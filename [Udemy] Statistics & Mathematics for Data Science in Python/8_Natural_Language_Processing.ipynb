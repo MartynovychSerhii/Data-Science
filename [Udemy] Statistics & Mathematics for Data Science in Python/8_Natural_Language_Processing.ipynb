{
  "cells": [
    {
      "cell_type": "code",
      "execution_count": 212,
      "metadata": {
        "id": "yy-u2PiQPkfz"
      },
      "outputs": [],
      "source": [
        "!pip install --quiet nltk"
      ]
    },
    {
      "cell_type": "code",
      "execution_count": 213,
      "metadata": {
        "colab": {
          "base_uri": "https://localhost:8080/"
        },
        "id": "R-Ye53tiPoD2",
        "outputId": "d7df1df1-9f6b-405c-bd33-b4d42d002ccb"
      },
      "outputs": [
        {
          "output_type": "execute_result",
          "data": {
            "text/plain": [
              "True"
            ]
          },
          "metadata": {},
          "execution_count": 213
        }
      ],
      "source": [
        "from bs4 import BeautifulSoup\n",
        "import requests\n",
        "import matplotlib.pyplot as plt\n",
        "import seaborn as sns\n",
        "\n",
        "%matplotlib inline\n",
        "\n",
        "import nltk\n",
        "nltk.download(\"all\", quiet=True)"
      ]
    },
    {
      "cell_type": "code",
      "execution_count": 214,
      "metadata": {
        "id": "MRYFjBTwPoGX"
      },
      "outputs": [],
      "source": [
        "#https://www.gutenberg.org/"
      ]
    },
    {
      "cell_type": "code",
      "execution_count": 215,
      "metadata": {
        "id": "eCUGhVR1PoI-"
      },
      "outputs": [],
      "source": [
        "url = \"https://www.gutenberg.org/files/43/43-h/43-h.htm\""
      ]
    },
    {
      "cell_type": "code",
      "execution_count": 216,
      "metadata": {
        "id": "B0cqWwCSPoLY"
      },
      "outputs": [],
      "source": [
        "req = requests.get(url)"
      ]
    },
    {
      "cell_type": "code",
      "execution_count": 217,
      "metadata": {
        "colab": {
          "base_uri": "https://localhost:8080/",
          "height": 139
        },
        "id": "TxSD87XxPoN1",
        "outputId": "05e20932-b24c-4fad-a105-694f89793689"
      },
      "outputs": [
        {
          "output_type": "execute_result",
          "data": {
            "text/plain": [
              "requests.models.Response"
            ],
            "text/html": [
              "<div style=\"max-width:800px; border: 1px solid var(--colab-border-color);\"><style>\n",
              "      pre.function-repr-contents {\n",
              "        overflow-x: auto;\n",
              "        padding: 8px 12px;\n",
              "        max-height: 500px;\n",
              "      }\n",
              "\n",
              "      pre.function-repr-contents.function-repr-contents-collapsed {\n",
              "        cursor: pointer;\n",
              "        max-height: 100px;\n",
              "      }\n",
              "    </style>\n",
              "    <pre style=\"white-space: initial; background:\n",
              "         var(--colab-secondary-surface-color); padding: 8px 12px;\n",
              "         border-bottom: 1px solid var(--colab-border-color);\"><b>requests.models.Response</b><br/>def __init__()</pre><pre class=\"function-repr-contents function-repr-contents-collapsed\" style=\"\"><a class=\"filepath\" style=\"display:none\" href=\"#\">/usr/local/lib/python3.11/dist-packages/requests/models.py</a>The :class:`Response &lt;Response&gt;` object, which contains a\n",
              "server&#x27;s response to an HTTP request.</pre>\n",
              "      <script>\n",
              "      if (google.colab.kernel.accessAllowed && google.colab.files && google.colab.files.view) {\n",
              "        for (const element of document.querySelectorAll('.filepath')) {\n",
              "          element.style.display = 'block'\n",
              "          element.onclick = (event) => {\n",
              "            event.preventDefault();\n",
              "            event.stopPropagation();\n",
              "            google.colab.files.view(element.textContent, 640);\n",
              "          };\n",
              "        }\n",
              "      }\n",
              "      for (const element of document.querySelectorAll('.function-repr-contents')) {\n",
              "        element.onclick = (event) => {\n",
              "          event.preventDefault();\n",
              "          event.stopPropagation();\n",
              "          element.classList.toggle('function-repr-contents-collapsed');\n",
              "        };\n",
              "      }\n",
              "      </script>\n",
              "      </div>"
            ]
          },
          "metadata": {},
          "execution_count": 217
        }
      ],
      "source": [
        "type(req)"
      ]
    },
    {
      "cell_type": "code",
      "execution_count": 218,
      "metadata": {
        "id": "QKT5QBpQPoQb"
      },
      "outputs": [],
      "source": [
        "html = req.text"
      ]
    },
    {
      "cell_type": "code",
      "execution_count": 219,
      "metadata": {
        "id": "E7OLDX6QPoS4"
      },
      "outputs": [],
      "source": [
        "soup = BeautifulSoup(html, \"html5lib\")"
      ]
    },
    {
      "cell_type": "code",
      "execution_count": 220,
      "metadata": {
        "colab": {
          "base_uri": "https://localhost:8080/",
          "height": 221
        },
        "id": "HKv5CX9VPoVk",
        "outputId": "116a8f64-a884-43a1-a76e-205385107104"
      },
      "outputs": [
        {
          "output_type": "execute_result",
          "data": {
            "text/plain": [
              "bs4.BeautifulSoup"
            ],
            "text/html": [
              "<div style=\"max-width:800px; border: 1px solid var(--colab-border-color);\"><style>\n",
              "      pre.function-repr-contents {\n",
              "        overflow-x: auto;\n",
              "        padding: 8px 12px;\n",
              "        max-height: 500px;\n",
              "      }\n",
              "\n",
              "      pre.function-repr-contents.function-repr-contents-collapsed {\n",
              "        cursor: pointer;\n",
              "        max-height: 100px;\n",
              "      }\n",
              "    </style>\n",
              "    <pre style=\"white-space: initial; background:\n",
              "         var(--colab-secondary-surface-color); padding: 8px 12px;\n",
              "         border-bottom: 1px solid var(--colab-border-color);\"><b>bs4.BeautifulSoup</b><br/>def __call__(name: Optional[_StrainableElement]=None, attrs: _StrainableAttributes={}, recursive: bool=True, string: Optional[_StrainableString]=None, limit: Optional[int]=None, _stacklevel: int=2, **kwargs: _StrainableAttribute) -&gt; _QueryResults</pre><pre class=\"function-repr-contents function-repr-contents-collapsed\" style=\"\"><a class=\"filepath\" style=\"display:none\" href=\"#\">/usr/local/lib/python3.11/dist-packages/bs4/__init__.py</a>A data structure representing a parsed HTML or XML document.\n",
              "\n",
              "Most of the methods you&#x27;ll call on a BeautifulSoup object are inherited from\n",
              "PageElement or Tag.\n",
              "\n",
              "Internally, this class defines the basic interface called by the\n",
              "tree builders when converting an HTML/XML document into a data\n",
              "structure. The interface abstracts away the differences between\n",
              "parsers. To write a new tree builder, you&#x27;ll need to understand\n",
              "these methods as a whole.\n",
              "\n",
              "These methods will be called by the BeautifulSoup constructor:\n",
              "  * reset()\n",
              "  * feed(markup)\n",
              "\n",
              "The tree builder may call these methods from its feed() implementation:\n",
              "  * handle_starttag(name, attrs) # See note about return value\n",
              "  * handle_endtag(name)\n",
              "  * handle_data(data) # Appends to the current data node\n",
              "  * endData(containerClass) # Ends the current data node\n",
              "\n",
              "No matter how complicated the underlying parser is, you should be\n",
              "able to build a tree using &#x27;start tag&#x27; events, &#x27;end tag&#x27; events,\n",
              "&#x27;data&#x27; events, and &quot;done with data&quot; events.\n",
              "\n",
              "If you encounter an empty-element tag (aka a self-closing tag,\n",
              "like HTML&#x27;s &lt;br&gt; tag), call handle_starttag and then\n",
              "handle_endtag.</pre>\n",
              "      <script>\n",
              "      if (google.colab.kernel.accessAllowed && google.colab.files && google.colab.files.view) {\n",
              "        for (const element of document.querySelectorAll('.filepath')) {\n",
              "          element.style.display = 'block'\n",
              "          element.onclick = (event) => {\n",
              "            event.preventDefault();\n",
              "            event.stopPropagation();\n",
              "            google.colab.files.view(element.textContent, 133);\n",
              "          };\n",
              "        }\n",
              "      }\n",
              "      for (const element of document.querySelectorAll('.function-repr-contents')) {\n",
              "        element.onclick = (event) => {\n",
              "          event.preventDefault();\n",
              "          event.stopPropagation();\n",
              "          element.classList.toggle('function-repr-contents-collapsed');\n",
              "        };\n",
              "      }\n",
              "      </script>\n",
              "      </div>"
            ]
          },
          "metadata": {},
          "execution_count": 220
        }
      ],
      "source": [
        "type(soup)"
      ]
    },
    {
      "cell_type": "code",
      "execution_count": 221,
      "metadata": {
        "colab": {
          "base_uri": "https://localhost:8080/",
          "height": 35
        },
        "id": "QMDPYHufPoYC",
        "outputId": "555c4902-14a3-4e76-9e19-4dd10af1081b"
      },
      "outputs": [
        {
          "output_type": "execute_result",
          "data": {
            "text/plain": [
              "'The Strange Case Of Dr. Jekyll And Mr. Hyde | Project Gutenberg'"
            ],
            "application/vnd.google.colaboratory.intrinsic+json": {
              "type": "string"
            }
          },
          "metadata": {},
          "execution_count": 221
        }
      ],
      "source": [
        "soup.title.string"
      ]
    },
    {
      "cell_type": "code",
      "execution_count": 222,
      "metadata": {
        "colab": {
          "base_uri": "https://localhost:8080/"
        },
        "id": "icRJUDvMPoaX",
        "outputId": "2ebca4d9-c1a1-4cd1-d4f2-922c09c9cb6b"
      },
      "outputs": [
        {
          "output_type": "stream",
          "name": "stderr",
          "text": [
            "<ipython-input-222-5ca6d219503b>:1: DeprecationWarning: Call to deprecated method findAll. (Replaced by find_all) -- Deprecated since version 4.0.0.\n",
            "  soup.findAll(\"a\")\n"
          ]
        },
        {
          "output_type": "execute_result",
          "data": {
            "text/plain": [
              "[<a href=\"#chap01\">STORY OF THE DOOR</a>,\n",
              " <a href=\"#chap02\">SEARCH FOR MR. HYDE</a>,\n",
              " <a href=\"#chap03\">DR. JEKYLL WAS QUITE AT EASE</a>,\n",
              " <a href=\"#chap04\">THE CAREW MURDER CASE</a>,\n",
              " <a href=\"#chap05\">INCIDENT OF THE LETTER</a>,\n",
              " <a href=\"#chap06\">INCIDENT OF DR. LANYON</a>,\n",
              " <a href=\"#chap07\">INCIDENT AT THE WINDOW</a>,\n",
              " <a href=\"#chap08\">THE LAST NIGHT</a>,\n",
              " <a href=\"#chap09\">DR. LANYON’S NARRATIVE</a>,\n",
              " <a href=\"#chap10\">HENRY JEKYLL’S FULL STATEMENT OF THE CASE</a>,\n",
              " <a name=\"chap01\"></a>,\n",
              " <a name=\"chap02\"></a>,\n",
              " <a name=\"chap03\"></a>,\n",
              " <a name=\"chap04\"></a>,\n",
              " <a name=\"chap05\"></a>,\n",
              " <a name=\"chap06\"></a>,\n",
              " <a name=\"chap07\"></a>,\n",
              " <a name=\"chap08\"></a>,\n",
              " <a name=\"chap09\"></a>,\n",
              " <a name=\"chap10\"></a>]"
            ]
          },
          "metadata": {},
          "execution_count": 222
        }
      ],
      "source": [
        "soup.findAll(\"a\")"
      ]
    },
    {
      "cell_type": "code",
      "execution_count": 223,
      "metadata": {
        "id": "37tEjmvAPodE"
      },
      "outputs": [],
      "source": [
        "text = soup.get_text()"
      ]
    },
    {
      "cell_type": "code",
      "execution_count": 224,
      "metadata": {
        "id": "OczvxLkWPofx"
      },
      "outputs": [],
      "source": [
        "tokenizer = nltk.tokenize.RegexpTokenizer(\"\\w+\")"
      ]
    },
    {
      "cell_type": "code",
      "execution_count": 225,
      "metadata": {
        "id": "DqMktUqNPoiW"
      },
      "outputs": [],
      "source": [
        "tokens = tokenizer.tokenize(text)"
      ]
    },
    {
      "cell_type": "code",
      "execution_count": 226,
      "metadata": {
        "colab": {
          "base_uri": "https://localhost:8080/"
        },
        "id": "hffR3w7zPolC",
        "outputId": "e786d9a8-9d03-44d2-cb86-70a046cbe2c0"
      },
      "outputs": [
        {
          "output_type": "execute_result",
          "data": {
            "text/plain": [
              "26163"
            ]
          },
          "metadata": {},
          "execution_count": 226
        }
      ],
      "source": [
        "len(tokens)"
      ]
    },
    {
      "cell_type": "code",
      "execution_count": 227,
      "metadata": {
        "id": "HM5a_N5pPonw"
      },
      "outputs": [],
      "source": [
        "words = []"
      ]
    },
    {
      "cell_type": "code",
      "execution_count": 228,
      "metadata": {
        "id": "Ei51HWO5Poqp"
      },
      "outputs": [],
      "source": [
        "for word in tokens:\n",
        "  words.append(word.lower())"
      ]
    },
    {
      "cell_type": "code",
      "execution_count": 229,
      "metadata": {
        "colab": {
          "base_uri": "https://localhost:8080/"
        },
        "id": "AS_aDe5YPotB",
        "outputId": "29e42b3d-1d07-466a-afd5-f1aca59b1867"
      },
      "outputs": [
        {
          "output_type": "execute_result",
          "data": {
            "text/plain": [
              "['the', 'strange', 'case', 'of', 'dr', 'jekyll', 'and', 'mr', 'hyde']"
            ]
          },
          "metadata": {},
          "execution_count": 229
        }
      ],
      "source": [
        "words[:9]"
      ]
    },
    {
      "cell_type": "code",
      "execution_count": 230,
      "metadata": {
        "colab": {
          "base_uri": "https://localhost:8080/"
        },
        "id": "mOUMp0xKfkVL",
        "outputId": "50ee8928-de44-401c-a00d-986e4e5d1ccd"
      },
      "outputs": [
        {
          "output_type": "execute_result",
          "data": {
            "text/plain": [
              "26163"
            ]
          },
          "metadata": {},
          "execution_count": 230
        }
      ],
      "source": [
        "len(words)"
      ]
    },
    {
      "cell_type": "code",
      "execution_count": 231,
      "metadata": {
        "id": "BgCL2IEjPove"
      },
      "outputs": [],
      "source": [
        "sw = nltk.corpus.stopwords.words(\"english\")"
      ]
    },
    {
      "cell_type": "code",
      "execution_count": 232,
      "metadata": {
        "colab": {
          "base_uri": "https://localhost:8080/"
        },
        "id": "-Zu4Ab01PoyS",
        "outputId": "9cd8eda4-eca7-4f03-d9d4-f4086d1abb97"
      },
      "outputs": [
        {
          "output_type": "execute_result",
          "data": {
            "text/plain": [
              "198"
            ]
          },
          "metadata": {},
          "execution_count": 232
        }
      ],
      "source": [
        "len(sw)"
      ]
    },
    {
      "cell_type": "code",
      "execution_count": 233,
      "metadata": {
        "id": "TkXbQ_d3Po0x"
      },
      "outputs": [],
      "source": [
        "words2 = []"
      ]
    },
    {
      "cell_type": "code",
      "execution_count": 234,
      "metadata": {
        "id": "7-YePtsaPo3j"
      },
      "outputs": [],
      "source": [
        "for word in words:\n",
        "  if word not in sw:\n",
        "    words2.append(word)"
      ]
    },
    {
      "cell_type": "code",
      "execution_count": 235,
      "metadata": {
        "colab": {
          "base_uri": "https://localhost:8080/"
        },
        "id": "DfvKP8qOPo55",
        "outputId": "ef727db6-91ca-48e2-8238-50ac0fe1aa4e"
      },
      "outputs": [
        {
          "output_type": "execute_result",
          "data": {
            "text/plain": [
              "['strange', 'case', 'dr', 'jekyll', 'mr', 'hyde', 'project']"
            ]
          },
          "metadata": {},
          "execution_count": 235
        }
      ],
      "source": [
        "words2[:7]"
      ]
    },
    {
      "cell_type": "code",
      "execution_count": 236,
      "metadata": {
        "colab": {
          "base_uri": "https://localhost:8080/",
          "height": 524
        },
        "id": "ykknS2TqaMIW",
        "outputId": "af050a9a-8568-4dc9-e1d1-658569b1b436"
      },
      "outputs": [
        {
          "output_type": "execute_result",
          "data": {
            "text/plain": [
              "<Axes: xlabel='Samples', ylabel='Counts'>"
            ]
          },
          "metadata": {},
          "execution_count": 236
        },
        {
          "output_type": "display_data",
          "data": {
            "text/plain": [
              "<Figure size 640x480 with 1 Axes>"
            ],
            "image/png": "[encoded data removed]"
          },
          "metadata": {}
        }
      ],
      "source": [
        "sns.set(color_codes=True)\n",
        "freqDist = nltk.FreqDist(words2)\n",
        "freqDist.plot(30)"
      ]
    },
    {
      "cell_type": "code",
      "execution_count": 237,
      "metadata": {
        "id": "JxarGMikaMJh"
      },
      "outputs": [],
      "source": [
        "def plot_words(url):\n",
        "  req = requests.get(url)\n",
        "  html = req.text\n",
        "  soup = BeautifulSoup(html, \"html5lib\")\n",
        "  text = soup.get_text()\n",
        "  tokenizer = nltk.tokenize.RegexpTokenizer(\"\\w+\")\n",
        "  tokens = tokenizer.tokenize(text)\n",
        "  words = []\n",
        "  for word in tokens:\n",
        "    words.append(word.lower())\n",
        "  sw = nltk.corpus.stopwords.words(\"english\")\n",
        "  words2 = []\n",
        "  for word in words:\n",
        "    if word not in sw:\n",
        "      words2.append(word)\n",
        "  freqDist = nltk.FreqDist(words2)\n",
        "  freqDist.plot(20)"
      ]
    },
    {
      "cell_type": "code",
      "execution_count": 238,
      "metadata": {
        "colab": {
          "base_uri": "https://localhost:8080/",
          "height": 502
        },
        "id": "G9tVS-NYaMMU",
        "outputId": "03431e4f-4ee1-423f-8999-30ffef524c9b"
      },
      "outputs": [
        {
          "output_type": "display_data",
          "data": {
            "text/plain": [
              "<Figure size 640x480 with 1 Axes>"
            ],
            "image/png": "[encoded data removed]"
          },
          "metadata": {}
        }
      ],
      "source": [
        "plot_words(\"https://www.gutenberg.org/files/98/98-h/98-h.htm\")"
      ]
    },
    {
      "cell_type": "code",
      "execution_count": 239,
      "metadata": {
        "colab": {
          "base_uri": "https://localhost:8080/",
          "height": 503
        },
        "id": "tVY03gp7aMO7",
        "outputId": "ff328f62-4d16-432d-a0a1-a22ca4167bf5"
      },
      "outputs": [
        {
          "output_type": "display_data",
          "data": {
            "text/plain": [
              "<Figure size 640x480 with 1 Axes>"
            ],
            "image/png": "[encoded data removed]"
          },
          "metadata": {}
        }
      ],
      "source": [
        "plot_words(\"https://www.gutenberg.org/files/11/11-h/11-h.htm\")"
      ]
    },
    {
      "cell_type": "code",
      "execution_count": 240,
      "metadata": {
        "colab": {
          "base_uri": "https://localhost:8080/",
          "height": 504
        },
        "id": "ps63sCVvaMRn",
        "outputId": "3ed53966-6d10-4f6a-c52b-8d4a3af1fee1"
      },
      "outputs": [
        {
          "output_type": "display_data",
          "data": {
            "text/plain": [
              "<Figure size 640x480 with 1 Axes>"
            ],
            "image/png": "[encoded data removed]"
          },
          "metadata": {}
        }
      ],
      "source": [
        "plot_words(\"https://www.gutenberg.org/cache/epub/75542/pg75542-images.html\")"
      ]
    },
    {
      "cell_type": "code",
      "execution_count": 240,
      "metadata": {
        "id": "GTm6l0CWaMUH"
      },
      "outputs": [],
      "source": []
    },
    {
      "cell_type": "code",
      "execution_count": 241,
      "metadata": {
        "colab": {
          "base_uri": "https://localhost:8080/"
        },
        "id": "Y8YKKmXBaMWw",
        "outputId": "a8a824ba-5a18-4f77-b137-25b7d6a31086"
      },
      "outputs": [
        {
          "output_type": "execute_result",
          "data": {
            "text/plain": [
              "True"
            ]
          },
          "metadata": {},
          "execution_count": 241
        }
      ],
      "source": [
        "import random\n",
        "\n",
        "#importing and downloading everything at once, may take a few minutes\n",
        "import nltk\n",
        "nltk.download(\"all\", quiet=True)"
      ]
    },
    {
      "cell_type": "code",
      "execution_count": 242,
      "metadata": {
        "id": "HA_YrGi-aMZd"
      },
      "outputs": [],
      "source": [
        "documents = [(list(nltk.corpus.movie_reviews.words(fileid)), category)\n",
        "              for category in nltk.corpus.movie_reviews.categories()\n",
        "              for fileid in nltk.corpus.movie_reviews.fileids(category)]"
      ]
    },
    {
      "cell_type": "code",
      "execution_count": 243,
      "metadata": {
        "id": "ffhhDB8paMcF"
      },
      "outputs": [],
      "source": [
        "random.shuffle(documents)"
      ]
    },
    {
      "cell_type": "code",
      "execution_count": 244,
      "metadata": {
        "id": "jmNtuFmiaMe5"
      },
      "outputs": [],
      "source": [
        "#documents[0][0]"
      ]
    },
    {
      "cell_type": "code",
      "execution_count": 245,
      "metadata": {
        "id": "XsCJL0m-aMhj"
      },
      "outputs": [],
      "source": [
        "all_words = []"
      ]
    },
    {
      "cell_type": "code",
      "execution_count": 246,
      "metadata": {
        "id": "L8yiqzuVaMkX"
      },
      "outputs": [],
      "source": [
        "for w in nltk.corpus.movie_reviews.words():\n",
        "  all_words.append(w.lower())"
      ]
    },
    {
      "cell_type": "code",
      "execution_count": 247,
      "metadata": {
        "id": "vJmjhzsIaMm4"
      },
      "outputs": [],
      "source": [
        "all_words = nltk.FreqDist(all_words)"
      ]
    },
    {
      "cell_type": "code",
      "execution_count": 248,
      "metadata": {
        "colab": {
          "base_uri": "https://localhost:8080/"
        },
        "id": "duH9xn4naMpp",
        "outputId": "aa15a3a5-51d1-4969-dc01-1694789cfd0e"
      },
      "outputs": [
        {
          "output_type": "stream",
          "name": "stdout",
          "text": [
            "[(',', 77717), ('the', 76529), ('.', 65876), ('a', 38106), ('and', 35576), ('of', 34123), ('to', 31937), (\"'\", 30585), ('is', 25195), ('in', 21822)]\n"
          ]
        }
      ],
      "source": [
        "print(all_words.most_common(10))"
      ]
    },
    {
      "cell_type": "code",
      "execution_count": 249,
      "metadata": {
        "colab": {
          "base_uri": "https://localhost:8080/"
        },
        "id": "vwXXJpuOaMsO",
        "outputId": "fde1be5b-4555-41aa-8e8d-be3d058953bb"
      },
      "outputs": [
        {
          "output_type": "stream",
          "name": "stdout",
          "text": [
            "1395\n"
          ]
        }
      ],
      "source": [
        "print(all_words[\"bad\"])"
      ]
    },
    {
      "cell_type": "code",
      "execution_count": 250,
      "metadata": {
        "colab": {
          "base_uri": "https://localhost:8080/"
        },
        "id": "1ERHMd3haMu6",
        "outputId": "f6a8c437-60d8-46b2-f2e4-4ff163e48dbf"
      },
      "outputs": [
        {
          "output_type": "stream",
          "name": "stdout",
          "text": [
            "2411\n"
          ]
        }
      ],
      "source": [
        "print(all_words[\"good\"])"
      ]
    },
    {
      "cell_type": "code",
      "execution_count": 251,
      "metadata": {
        "id": "fYiwmqB0aMxu"
      },
      "outputs": [],
      "source": [
        "word_feats = list(all_words.keys())[:2500]"
      ]
    },
    {
      "cell_type": "code",
      "execution_count": 252,
      "metadata": {
        "id": "Kh8Fu-Vj1clp"
      },
      "outputs": [],
      "source": [
        "def find_feats(document):\n",
        "  words = set(document)\n",
        "  feats = {}\n",
        "  for w in word_feats:\n",
        "    feats[w] = (w in words)\n",
        "\n",
        "  return feats"
      ]
    },
    {
      "cell_type": "code",
      "execution_count": 253,
      "metadata": {
        "id": "Nv1guzOEaM0a"
      },
      "outputs": [],
      "source": [
        "feat_set = [(find_feats(rev), category) for (rev,category) in documents]"
      ]
    },
    {
      "cell_type": "code",
      "execution_count": 254,
      "metadata": {
        "colab": {
          "base_uri": "https://localhost:8080/"
        },
        "id": "Cm-zyJ06aM3H",
        "outputId": "89bc8868-e4d9-4a65-8406-c8f5cb9ef74c"
      },
      "outputs": [
        {
          "output_type": "execute_result",
          "data": {
            "text/plain": [
              "list"
            ]
          },
          "metadata": {},
          "execution_count": 254
        }
      ],
      "source": [
        "type(feat_set)"
      ]
    },
    {
      "cell_type": "code",
      "execution_count": 255,
      "metadata": {
        "id": "OGHGyp342J1Z"
      },
      "outputs": [],
      "source": [
        "#feat_set"
      ]
    },
    {
      "cell_type": "code",
      "execution_count": 256,
      "metadata": {
        "colab": {
          "base_uri": "https://localhost:8080/"
        },
        "id": "950NtFfWaM5v",
        "outputId": "2bdeff39-87d9-435d-c0e3-8bb7a2d3011c"
      },
      "outputs": [
        {
          "output_type": "execute_result",
          "data": {
            "text/plain": [
              "2000"
            ]
          },
          "metadata": {},
          "execution_count": 256
        }
      ],
      "source": [
        "len(feat_set)"
      ]
    },
    {
      "cell_type": "code",
      "execution_count": 257,
      "metadata": {
        "colab": {
          "base_uri": "https://localhost:8080/"
        },
        "id": "fBZtXROsaM8O",
        "outputId": "60299bfb-0b02-4135-ae3f-dc7eb183a9ec"
      },
      "outputs": [
        {
          "output_type": "execute_result",
          "data": {
            "text/plain": [
              "1500.0"
            ]
          },
          "metadata": {},
          "execution_count": 257
        }
      ],
      "source": [
        "0.75*2000"
      ]
    },
    {
      "cell_type": "code",
      "execution_count": 258,
      "metadata": {
        "id": "3HaDK6kYfG4J"
      },
      "outputs": [],
      "source": [
        "trainer = feat_set[:1500]\n",
        "\n",
        "tester = feat_set[1500:]"
      ]
    },
    {
      "cell_type": "code",
      "execution_count": 259,
      "metadata": {
        "id": "vIOK3u0tfG5a"
      },
      "outputs": [],
      "source": [
        "classifier = nltk.NaiveBayesClassifier.train(trainer)"
      ]
    },
    {
      "cell_type": "code",
      "execution_count": 260,
      "metadata": {
        "colab": {
          "base_uri": "https://localhost:8080/"
        },
        "id": "p-7-H21VfG74",
        "outputId": "5f4a79af-eacf-4637-ece3-42fa82932228"
      },
      "outputs": [
        {
          "output_type": "stream",
          "name": "stdout",
          "text": [
            "Accuracy of Classifier Percentage: 81.8\n"
          ]
        }
      ],
      "source": [
        "print(\"Accuracy of Classifier Percentage:\", (nltk.classify.accuracy(classifier, tester))*100)"
      ]
    },
    {
      "cell_type": "code",
      "execution_count": 261,
      "metadata": {
        "colab": {
          "base_uri": "https://localhost:8080/"
        },
        "id": "bpbeVv6wfG-W",
        "outputId": "f8e69e03-e68d-44a5-e145-96790c86fe88"
      },
      "outputs": [
        {
          "output_type": "stream",
          "name": "stdout",
          "text": [
            "Most Informative Features\n",
            "                bothered = True              neg : pos    =      9.0 : 1.0\n",
            "                 frances = True              pos : neg    =      7.7 : 1.0\n",
            "                  turkey = True              neg : pos    =      7.3 : 1.0\n",
            "                  annual = True              pos : neg    =      7.0 : 1.0\n",
            "                   groan = True              neg : pos    =      7.0 : 1.0\n",
            "                everyday = True              pos : neg    =      6.6 : 1.0\n",
            "                   waste = True              neg : pos    =      6.3 : 1.0\n",
            "           unimaginative = True              neg : pos    =      6.3 : 1.0\n",
            "               atrocious = True              neg : pos    =      6.2 : 1.0\n",
            "              schumacher = True              neg : pos    =      6.2 : 1.0\n",
            "                obstacle = True              pos : neg    =      5.7 : 1.0\n",
            "                 jumbled = True              neg : pos    =      5.7 : 1.0\n",
            "                    mena = True              neg : pos    =      5.7 : 1.0\n",
            "            surveillance = True              neg : pos    =      5.7 : 1.0\n",
            "                  suvari = True              neg : pos    =      5.7 : 1.0\n",
            "              ridiculous = True              neg : pos    =      5.6 : 1.0\n",
            "                    dull = True              neg : pos    =      5.3 : 1.0\n",
            "               criminals = True              neg : pos    =      5.3 : 1.0\n",
            "                 unfunny = True              neg : pos    =      5.1 : 1.0\n",
            "                 unravel = True              pos : neg    =      5.0 : 1.0\n"
          ]
        }
      ],
      "source": [
        "classifier.show_most_informative_features(20)"
      ]
    }
  ],
  "metadata": {
    "colab": {
      "provenance": []
    },
    "kernelspec": {
      "display_name": "Python 3",
      "name": "python3"
    },
    "language_info": {
      "name": "python"
    }
  },
  "nbformat": 4,
  "nbformat_minor": 0
}